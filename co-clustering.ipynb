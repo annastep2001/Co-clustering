{
 "cells": [
  {
   "cell_type": "markdown",
   "metadata": {},
   "source": [
    "# A hierarchical co-clustering approach for entity exploration over Linked Data"
   ]
  },
  {
   "cell_type": "markdown",
   "metadata": {},
   "source": [
    "## Функции"
   ]
  },
  {
   "cell_type": "code",
   "execution_count": 1,
   "metadata": {},
   "outputs": [],
   "source": [
    "import rdflib\n",
    "import networkx as nx\n",
    "%matplotlib inline\n",
    "import matplotlib.pyplot as plt\n",
    "import pandas as pd\n",
    "import numpy as np\n",
    "import warnings\n",
    "warnings.filterwarnings(\"ignore\")"
   ]
  },
  {
   "cell_type": "code",
   "execution_count": 2,
   "metadata": {},
   "outputs": [],
   "source": [
    "def sim_edit(word1, word2):\n",
    "    return 1 / (1 + editDist(word1, word2))\n",
    "    \n",
    "def editDist(word1, word2):\n",
    "    \n",
    "    if len(word2) == 0:\n",
    "        return len(word1)\n",
    "    \n",
    "    if len(word1) < len(word2):\n",
    "        return editDist(word2, word1)\n",
    "    \n",
    "    prev = range(len(word2) + 1)\n",
    "    \n",
    "    for i, c1 in enumerate(word1):\n",
    "        this = [i + 1]\n",
    "        for j, c2 in enumerate(word2):\n",
    "            ins = prev[j + 1] + 1\n",
    "            dels = this[j] + 1\n",
    "            subs = prev[j] + (c1 != c2)\n",
    "            this.append(min(ins, dels, subs))\n",
    "        prev = this\n",
    "        \n",
    "    return prev[-1]\n",
    "\n",
    "\n",
    "# def sim_cos(word1, word2):\n",
    "#     return model.wv.similarity(word1, word2)\n",
    "\n",
    "#def LCA(word1, word2)\n",
    "\n",
    "def sim(word1, word2):\n",
    "    return sim_edit(word1, word2)\n",
    "    \n",
    "#def sim_sem(word1, word2)\n",
    "\n",
    "def cluster_similarity(x_hat, cX, X):\n",
    "    if True:\n",
    "        return 0\n",
    "    \n",
    "    cl_num = np.unique(np.array(cX).ravel())\n",
    "    x_cl = np.array(cX).ravel()[x_hat]\n",
    "    tmp = np.array(cX).ravel()\n",
    "    x_words = X[tmp == x_cl]\n",
    "    res = 0\n",
    "    \n",
    "    for num in cl_num:\n",
    "        if num != x_cl:\n",
    "            other_words = X[tmp == num]\n",
    "            for word1 in x_words:\n",
    "                for word2 in other_words:\n",
    "                    res += sim(word1, word2)\n",
    "    return res\n",
    "\n",
    "\n",
    "def cluster_index(cluster, labels):\n",
    "    num = np.unique(cluster)\n",
    "\n",
    "    sigma = 0\n",
    "    \n",
    "    for i in num:\n",
    "        sigma_cur = 0\n",
    "        x = labels[cluster == i]\n",
    "        for l1 in x:\n",
    "            for l2 in x:\n",
    "                if l1 != l2:\n",
    "                    sigma_cur += sim(l1, l2)\n",
    "        \n",
    "        sigma_cur = sigma_cur / (len(x) * (len(x) - 1) + 0.000001)\n",
    "        sigma += sigma_cur\n",
    "    \n",
    "    sigma /= len(num)\n",
    "    \n",
    "    delta = 0\n",
    "    \n",
    "    for i in num:\n",
    "        for j in num:\n",
    "            delta_cur = 0\n",
    "            if i != j:\n",
    "                x = labels[cluster == i]\n",
    "                y = labels[cluster == j]\n",
    "                for l1 in x:\n",
    "                    for l2 in y:\n",
    "                        delta_cur += sim(l1, l2)\n",
    "                delta_cur = delta_cur / (len(x) * len(y) + 0.000001)\n",
    "                delta += delta_cur\n",
    "                \n",
    "    delta = delta * 2 / (len(num) * (len(num) - 1) + 0.000001)\n",
    "    \n",
    "    return sigma **2 / (sigma + delta)"
   ]
  },
  {
   "cell_type": "code",
   "execution_count": 3,
   "metadata": {},
   "outputs": [],
   "source": [
    "def prob_clust_Indiv(p, xhat, cX, yhat, cY):\n",
    "    \n",
    "    # на вход поступает номер кластера для ссылки и класса пара (i, j) с индексами из cx, cy, то есть cx[i], cy[j]\n",
    "    # смотрим, какие ссылки и классы попали в один кластер и складываем вероятности из совместного распределения\n",
    "    # как бы смотрим на те ячейки, где определенный кластер ссылок и кластер классов и находим совместное распределение этих кластеров\n",
    "    \n",
    "#     print('prob_clust_Indiv p, xhat, cX, yhat, cY', p, xhat, cX, yhat, cY)\n",
    "#     print('prob_clust_Indiv', np.sum( p[np.array(cX==xhat).ravel(),:][:,np.array(cY==yhat).ravel()] ))\n",
    "    return np.sum( p[np.array(cX==xhat).ravel(),:][:,np.array(cY==yhat).ravel()] )\n",
    "\n",
    "\n",
    "def prob_clust(p, Xhat, cX, Yhat, cY):\n",
    "    output = np.empty([len(Xhat), len(Yhat)],dtype=float)  \n",
    "    for xhat in Xhat:\n",
    "        for yhat in Yhat:\n",
    "            output[xhat, yhat] = prob_clust_Indiv(p, xhat,cX, yhat,cY)\n",
    "    return output\n",
    "\n",
    "\n",
    "def prob_x_given_xhat(p, x, xhat, cX):\n",
    "    #считаем условную вероятность i-я ссылка попала в какой-то кластер\n",
    "    # p(x|x_hat) = p(x пересечение x_hat) / p(x_hat)\n",
    "    \n",
    "    # у нас есть какое-то распределение на кластера cX (это hat)\n",
    "    # мы берем ссылку и смотрим ее вероятность / вероятность кластера\n",
    "    # сумма строки / сумма всех строк этого кластера (куда попала эта строка)\n",
    "    \n",
    "#     print('prob_x_given_xhat')\n",
    "#     print(np.sum(p[x,:]))\n",
    "#     print(np.sum(p[np.array(cX==xhat).ravel(),:]))\n",
    "    return  np.sum(p[x,:]) / np.sum(p[np.array(cX==xhat).ravel(),:])   #\n",
    "\n",
    "def prob_y_given_yhat(p ,y, yhat, cY):\n",
    "    \n",
    "    # по столбцам то же самое\n",
    "    \n",
    "#     print('prob_y_given_yhat')\n",
    "#     print(np.sum(p[:,y]))\n",
    "#     print(np.sum(p[:,np.array(cY==yhat).ravel()]))\n",
    "    return  np.sum(p[:,y]) / np.sum(p[:,np.array(cY==yhat).ravel()])   #  \n",
    "\n",
    "def prob_Y_given_x(p, x):\n",
    "    # делим сточку (то етсь ссылку) на сумму в этой строке (то есть смотрим вероятность по всем y)\n",
    "    # смотрим для конкретной сслыки вероятность всех классов\n",
    "    return p[x,:] / np.sum(p[x,:])\n",
    "\n",
    "def prob_X_given_y(p, y):\n",
    "    return p[:,y] / np.sum(p[:,y])\n",
    "\n",
    "\n",
    "\n",
    "def calc_q_Indiv(p, x,cX, y,cY):\n",
    "    return prob_clust_Indiv(p, cX[0,x],cX, cY[0,y], cY) * prob_x_given_xhat(p, x, cX[0,x],cX) * prob_y_given_yhat(p, y, cY[0,y],cY)\n",
    "\n",
    "\n",
    "def calc_q(p, X, cX, Y, cY):\n",
    "    output = np.empty([len(X), len(Y)],dtype=float)\n",
    "    for x in X:\n",
    "        for y in Y:\n",
    "#             print('calc_q', x, y)\n",
    "            # передаем всевозможные пары индексов (i, j)\n",
    "            output[x,y] = calc_q_Indiv(p, x,cX, y,cY)\n",
    "#     print('calq_q', output)\n",
    "    return output\n",
    "\n",
    "\n",
    "\n",
    "def prob_Y_given_xhat(p, xhat,cX):\n",
    "    \n",
    "    # строка / сумма всех строк этого кластера (куда попала эта строка)  и потом суммируем по столбцам\n",
    "    \n",
    "    return  np.sum(  p[np.array(cX==xhat).ravel(),:]  /  np.sum(p[np.array(cX==xhat).ravel(),:])  , axis=0 ) \n",
    "         \n",
    "def prob_X_given_yhat(p, yhat,cY):\n",
    "    return   np.sum (p[:,np.array(cY==yhat).ravel()]  /  np.sum(p[:,np.array(cY==yhat).ravel()])  ,axis=1 ) \n",
    "\n",
    "\n",
    "\n",
    "def kl_divergence(p,q):\n",
    "    TOLERANCE = 0.00000000000001\n",
    "    p = np.asmatrix(p, dtype=np.float)\n",
    "    q = np.asmatrix(q, dtype=np.float)\n",
    "    S=0\n",
    "    m = np.shape(p)[0]\n",
    "    n = np.shape(p)[1]\n",
    "    for i in range(0,m):\n",
    "         for j in range(0,n):\n",
    "            kl=(p[i,j]+TOLERANCE) / (q[i,j]+TOLERANCE)  #+TOLERANCE\n",
    "            S=S+ (p[i,j]*np.log2(kl))       \n",
    "    return S\n",
    "\n",
    "    \n",
    "\n",
    "\n",
    "def next_cx(p,q, x, cX, k, X):\n",
    "    q_dist_xhat = np.empty(k)\n",
    "    p_dist_x = prob_Y_given_x(p,x)\n",
    "\n",
    "    for xhat in range(0,k):\n",
    "        q_dist_xhat[xhat] = kl_divergence( p_dist_x.ravel(), prob_Y_given_xhat(q, xhat,cX).ravel()  ) + cluster_similarity(xhat, cX, X)\n",
    "        #print(q_dist_xhat)\n",
    "    return np.argmin(q_dist_xhat)   #\n",
    "\n",
    "def next_cX(p,q, cX, k, X):\n",
    "    output = np.empty(np.shape(cX)[1])\n",
    "    for x in range(0,np.shape(cX)[1]):\n",
    "        #print(x)\n",
    "        output[x] = next_cx(p,q, x,cX, k, X) \n",
    "    return output\n",
    "\n",
    "def next_cy(p,q, y,cY, l, Y):\n",
    "    q_dist_yhat = np.empty(l)\n",
    "    p_dist_y = prob_X_given_y(p,y)\n",
    "    for yhat in range(0,l):\n",
    "        q_dist_yhat[yhat] = kl_divergence( p_dist_y.ravel(), prob_X_given_yhat(q, yhat, cY).ravel()  )  + cluster_similarity(yhat, cY, Y)\n",
    "    return np.argmin(q_dist_yhat)\n",
    "\n",
    "\n",
    "def next_cY(p,q, cY, l, Y):\n",
    "    output = np.empty(np.shape(cY)[1])\n",
    "    for y in range(0,np.shape(cY)[1]):\n",
    "        output[y] = next_cy(p,q, y, cY, l, Y)\n",
    "    return output\n",
    "    \n",
    "    \n",
    "    \n",
    "def sorting(p,k,l,cX,cY):\n",
    "    m = np.shape(p)[0]\n",
    "    n = np.shape(p)[1]\n",
    "    M=np.empty((1,n))\n",
    "    M=np.delete(M, (0), axis=0)\n",
    "\n",
    "    for i in range(0,k):\n",
    "    #ind=cX[np.array(cX==i)]\n",
    "        indexes=[]\n",
    "        indexes =np.where(cX==i)\n",
    "        a=p[indexes[1],:]\n",
    "        M=np.vstack([M,a])\n",
    "\n",
    "    M1=np.empty((m,1))\n",
    "    M1=np.delete(M1, (0), axis=1) \n",
    "        \n",
    "    for j in range(0,l):\n",
    "    #ind=cX[np.array(cX==i)]\n",
    "        indexes=[]\n",
    "        indexes =np.where(cY==j)\n",
    "        a=M[:,indexes[1]]\n",
    "        M1=np.hstack([M1,a]) \n",
    "        \n",
    "    return M1 "
   ]
  },
  {
   "cell_type": "code",
   "execution_count": 4,
   "metadata": {},
   "outputs": [],
   "source": [
    "def ITCC(p, k, l, n_iters, convergeThresh, cX, cY, X, Y):\n",
    "\n",
    "    m = np.shape(p)[0]\n",
    "    n = np.shape(p)[1]\n",
    "    \n",
    "    converged = False\n",
    "\n",
    "    kl_curr = 0.0\n",
    "    kl_prev = 0.0\n",
    "    \n",
    "\n",
    "    \n",
    "    q = calc_q(p, range(0,m), cX, range(0,n), cY)\n",
    "    kl_curr = kl_divergence(p.ravel(), q.ravel())\n",
    "    Error=[kl_curr] \n",
    "\n",
    "    for i in range(0,n_iters):\n",
    "        print(\"iteration:\\t\", i, \"\\t KL Divergence:\\t \",kl_curr)   \n",
    "        kl_prev = kl_curr\n",
    "    # Update cX, q\n",
    "        \n",
    "        cX = np.matrix (next_cX(p,q, cX, k, X) )\n",
    "        q = calc_q(p, range(0,m), cX, range(0,n), cY)\n",
    "\n",
    "    # Update cY, q\n",
    "        cY = np.matrix (next_cY(p,q, cY, l, Y) )\n",
    "        q = calc_q(p, range(0,m), cX, range(0,n), cY)\n",
    "    \n",
    "        kl_curr = kl_divergence(p.ravel(), q.ravel())\n",
    "        Error.append(kl_curr)\n",
    "    \n",
    "        \n",
    "        #print(1)\n",
    "        if abs(kl_prev - kl_curr) < convergeThresh: #& ((kl_prev - kl_curr) >0 ):\n",
    "            converged = True\n",
    "            break\n",
    "            \n",
    "    M1=sorting(p,k,l,cX,cY)      \n",
    "    clustered=prob_clust(M1, range(0,k),cX, range(0,l),cY)     \n",
    "    return(M1,q,cX,cY,clustered,Error)"
   ]
  },
  {
   "cell_type": "code",
   "execution_count": 5,
   "metadata": {},
   "outputs": [],
   "source": [
    "def hierarchy(navigation_graph, cnt, CH, X, Y):\n",
    "#     CH = {} # иерархия классов\n",
    "    p = joint_probability(navigation_graph[(navigation_graph['links'].isin(X.values)) & (navigation_graph['classes'].isin(Y.values))], X.values, Y.values)\n",
    "#     X = p.index\n",
    "#     Y = p.columns\n",
    "#     print(p.values)\n",
    "#     print(p)\n",
    "    if np.sum(p.values) == 0:\n",
    "#         CH[cnt - 1].append('LEAF')\n",
    "#         print('NAN p', np.sum(p.values))\n",
    "        return CH, cnt\n",
    "    \n",
    "    k = 2\n",
    "    l = 2\n",
    "    n_iters = 10\n",
    "    convergeThresh = 0.00001\n",
    "    \n",
    "#     print(p)\n",
    "#     np.random.seed(42)\n",
    "\n",
    "    cX = np.matrix(np.random.randint(k, size=p.shape[0]))\n",
    "    cY = np.matrix(np.random.randint(l, size=p.shape[1]))\n",
    "    \n",
    "#     print(p.values)\n",
    "    \n",
    "    M1,q,cX,cY,clustered,Error = ITCC(p.values, k, l, n_iters, convergeThresh, cX, cY, X, Y) \n",
    "    \n",
    "#     print('cnt', cnt)\n",
    "#     print('cx', cX)\n",
    "#     print('cy', cY)\n",
    "#     print('X', X)\n",
    "#     print('Y', Y)\n",
    "    \n",
    "    CH[cnt] = [cX, cY, X, Y]\n",
    "    \n",
    "    if len(set(np.array(cX).ravel()) & set(np.array(cY).ravel())) == 0:\n",
    "#         print('set')\n",
    "        CH[cnt].append('LEAF')\n",
    "        return CH, cnt\n",
    "    \n",
    "    \n",
    "#     CH[cnt] = [cX, cY, X, Y]\n",
    "    \n",
    "    left_x = np.array(cX==0).ravel()\n",
    "    left_y = np.array(cY==0).ravel()\n",
    "    \n",
    "    right_x = np.array(cX==1).ravel()\n",
    "    right_y = np.array(cY==1).ravel()\n",
    "    \n",
    "#     print('left', X[left_x], Y[left_y])\n",
    "#     print('right', X[right_x], Y[right_y])\n",
    "    \n",
    "#     print('left_x', left_x)\n",
    "#     print(' X[left_x]',  X[left_x])\n",
    "    \n",
    "    if np.sum(left_x) != 0 and np.sum(left_y) != 0 and np.sum(left_x) != len(left_x) and np.sum(left_y) != len(left_y):\n",
    "#     if np.sum(left_x) != 0 and np.sum(left_y) != 0:\n",
    "        CH, cnt = hierarchy(navigation_graph, cnt + 1, CH, X[left_x], Y[left_y])\n",
    "    else:\n",
    "        CH[cnt].append('LEAF')\n",
    "    if np.sum(right_x) != 0 and np.sum(right_y) != 0 and np.sum(right_x) != len(right_x) and np.sum(right_y) != len(right_y):\n",
    "#     if np.sum(right_x) != 0 and np.sum(right_y) != 0:\n",
    "        CH, cnt = hierarchy(navigation_graph, cnt + 1, CH, X[right_x], Y[right_y])\n",
    "#     else:\n",
    "#         CH[cnt].append('LEAF')\n",
    "\n",
    "    \n",
    "    return CH, cnt"
   ]
  },
  {
   "cell_type": "code",
   "execution_count": 6,
   "metadata": {},
   "outputs": [],
   "source": [
    "def build_navigation_graph(entity: str): #entity - это как спилберг\n",
    "    \n",
    "    classes_links = ['http://www.w3.org/1999/02/22-rdf-syntax-ns#type', \n",
    "                     'http://www.w3.org/ns/prov#wasDerivedFrom',\n",
    "                     'http://www.w3.org/2000/01/rdf-schema#range',\n",
    "                     'http://www.w3.org/2000/01/rdf-schema#domain',\n",
    "                     'http://www.w3.org/2000/01/rdf-schema#subPropertyOf',\n",
    "                     'http://www.w3.org/2000/01/rdf-schema#subClassOf',\n",
    "                     'http://www.w3.org/2002/07/owl#equivalentClass',\n",
    "                     'http://www.w3.org/2002/07/owl#equivalentProperty',\n",
    "                     'http://www.w3.org/2002/07/owl#disjointWith']    # это ссылки, которые могут вести на класс после linked entities\n",
    "    \n",
    "    tmp_df = df[df[0] == entity]\n",
    "    links = tmp_df[tmp_df[1].isin(classes_links)][1].unique()   # ссылки, которые от него идут\n",
    "    linked_entities = tmp_df[tmp_df[1].isin(classes_links)][2].unique()  # связные сущности\n",
    "    classes = df[(df[0].isin(linked_entities)) & (df[1].isin(classes_links))][2].to_numpy()  # по ссылкам от linked_entities идем к классам\n",
    "    \n",
    "    tmp_df2 = df[(df[1].isin(links)) & (df[2].isin(linked_entities))][[1, 2]].rename(columns = {1:'links', 2: 'linked_entities'}).drop_duplicates()\n",
    "    tmp_df3 = df[(df[0].isin(linked_entities)) & (df[2].isin(classes))][[0, 2]].rename(columns = {0:'linked_entities', 2:'classes'}).drop_duplicates()\n",
    "    navigation_graph = tmp_df2.merge(tmp_df3, on = 'linked_entities')\n",
    "    \n",
    "    return links, linked_entities, classes, navigation_graph"
   ]
  },
  {
   "cell_type": "code",
   "execution_count": 7,
   "metadata": {},
   "outputs": [],
   "source": [
    "def joint_probability(navigation_graph, links = None, classes = None):\n",
    "    \n",
    "    if len(navigation_graph) == 0:\n",
    "        p = pd.DataFrame()\n",
    "        for l in links:\n",
    "            for c in classes:\n",
    "                p.loc[l, c] = 0\n",
    "        return p\n",
    "    \n",
    "    return pd.crosstab(navigation_graph['links'], navigation_graph['classes']) / navigation_graph['linked_entities'].nunique()    "
   ]
  },
  {
   "cell_type": "code",
   "execution_count": 8,
   "metadata": {},
   "outputs": [],
   "source": [
    "def create_sub_graph(root, depth):\n",
    "    # Limit number of hasWords relations to not overcrowd the figure\n",
    "    words_cntr = 0\n",
    "    \n",
    "    # Get all the triples that are maximally 2 hops away from our randomly picked paper\n",
    "    objects = set()\n",
    "    nx_graph = nx.DiGraph()\n",
    "    \n",
    "    rdf_subgraph = rdflib.Graph()\n",
    "    to_explore = {root}\n",
    "    for _ in range(depth):\n",
    "        new_explore = set()\n",
    "        for node in to_explore:\n",
    "            for s, p, o in g.triples((node, None, None)):\n",
    "                if 'words' in str(p).lower():\n",
    "                    if words_cntr >= 25:\n",
    "                        continue\n",
    "                    words_cntr += 1\n",
    "\n",
    "                s_name = str(s).split('/')[-1][:25]\n",
    "                p_name = str(p).split('/')[-1][:25]\n",
    "                o_name = str(o).split('/')[-1][:25]\n",
    "                nx_graph.add_node(s_name, name=s_name)\n",
    "                nx_graph.add_node(o_name, name=o_name)\n",
    "                nx_graph.add_edge(s_name, o_name, name=p_name)\n",
    "                rdf_subgraph.add((s, p, o))\n",
    "                \n",
    "                new_explore.add(o)\n",
    "        to_explore = new_explore\n",
    "    return nx_graph, rdf_subgraph\n",
    "    "
   ]
  },
  {
   "cell_type": "markdown",
   "metadata": {},
   "source": [
    "## Загрузка данных"
   ]
  },
  {
   "cell_type": "markdown",
   "metadata": {},
   "source": [
    "Используются датасеты с DbPedia [2016 года](http://downloads.dbpedia.org/2016-10/) и последние релизы [2020-22 годов](http://wikidata.dbpedia.org/develop/datasets/latest-core-dataset-releases)"
   ]
  },
  {
   "cell_type": "code",
   "execution_count": 9,
   "metadata": {},
   "outputs": [],
   "source": [
    "def stripe(x):\n",
    "    while True:\n",
    "        if x[-1] in [' ', '.', '\"', '<', '>']:\n",
    "            x = x[:-1]\n",
    "        else:\n",
    "            break\n",
    "    return x"
   ]
  },
  {
   "cell_type": "code",
   "execution_count": 10,
   "metadata": {},
   "outputs": [],
   "source": [
    "# df = pd.read_csv('dbpedia_2016-10.nt', sep = '> ', header = None)\n",
    "df = pd.read_csv('ontology--DEV_type=parsed.nt', sep = '> ', header = None)\n",
    "df.drop(3, axis = 1, inplace = True)\n",
    "df[0] = df[0].apply(lambda x: x[1:])\n",
    "df[1] = df[1].apply(lambda x: x[1:])\n",
    "df[2] = df[2].apply(lambda x: x[1:])\n",
    "df[2] = df[2].apply(stripe)\n",
    "\n"
   ]
  },
  {
   "cell_type": "code",
   "execution_count": 11,
   "metadata": {},
   "outputs": [
    {
     "data": {
      "text/html": [
       "<div>\n",
       "<style scoped>\n",
       "    .dataframe tbody tr th:only-of-type {\n",
       "        vertical-align: middle;\n",
       "    }\n",
       "\n",
       "    .dataframe tbody tr th {\n",
       "        vertical-align: top;\n",
       "    }\n",
       "\n",
       "    .dataframe thead th {\n",
       "        text-align: right;\n",
       "    }\n",
       "</style>\n",
       "<table border=\"1\" class=\"dataframe\">\n",
       "  <thead>\n",
       "    <tr style=\"text-align: right;\">\n",
       "      <th></th>\n",
       "      <th>0</th>\n",
       "      <th>1</th>\n",
       "      <th>2</th>\n",
       "    </tr>\n",
       "  </thead>\n",
       "  <tbody>\n",
       "    <tr>\n",
       "      <th>0</th>\n",
       "      <td>http://dbpedia.org/ontology/</td>\n",
       "      <td>http://www.w3.org/1999/02/22-rdf-syntax-ns#type</td>\n",
       "      <td>http://www.w3.org/2002/07/owl#Ontology</td>\n",
       "    </tr>\n",
       "    <tr>\n",
       "      <th>1</th>\n",
       "      <td>http://dbpedia.org/ontology/</td>\n",
       "      <td>http://www.w3.org/1999/02/22-rdf-syntax-ns#type</td>\n",
       "      <td>http://purl.org/vocommons/voaf#Vocabulary</td>\n",
       "    </tr>\n",
       "    <tr>\n",
       "      <th>2</th>\n",
       "      <td>http://dbpedia.org/ontology/</td>\n",
       "      <td>http://purl.org/vocab/vann/preferredNamespaceP...</td>\n",
       "      <td>dbo</td>\n",
       "    </tr>\n",
       "    <tr>\n",
       "      <th>3</th>\n",
       "      <td>http://dbpedia.org/ontology/</td>\n",
       "      <td>http://purl.org/vocab/vann/preferredNamespaceUri</td>\n",
       "      <td>http://dbpedia.org/ontology/</td>\n",
       "    </tr>\n",
       "    <tr>\n",
       "      <th>4</th>\n",
       "      <td>http://dbpedia.org/ontology/</td>\n",
       "      <td>http://purl.org/dc/terms/title</td>\n",
       "      <td>The DBpedia Ontology\"@en</td>\n",
       "    </tr>\n",
       "  </tbody>\n",
       "</table>\n",
       "</div>"
      ],
      "text/plain": [
       "                              0  \\\n",
       "0  http://dbpedia.org/ontology/   \n",
       "1  http://dbpedia.org/ontology/   \n",
       "2  http://dbpedia.org/ontology/   \n",
       "3  http://dbpedia.org/ontology/   \n",
       "4  http://dbpedia.org/ontology/   \n",
       "\n",
       "                                                   1  \\\n",
       "0    http://www.w3.org/1999/02/22-rdf-syntax-ns#type   \n",
       "1    http://www.w3.org/1999/02/22-rdf-syntax-ns#type   \n",
       "2  http://purl.org/vocab/vann/preferredNamespaceP...   \n",
       "3   http://purl.org/vocab/vann/preferredNamespaceUri   \n",
       "4                     http://purl.org/dc/terms/title   \n",
       "\n",
       "                                           2  \n",
       "0     http://www.w3.org/2002/07/owl#Ontology  \n",
       "1  http://purl.org/vocommons/voaf#Vocabulary  \n",
       "2                                        dbo  \n",
       "3               http://dbpedia.org/ontology/  \n",
       "4                   The DBpedia Ontology\"@en  "
      ]
     },
     "execution_count": 11,
     "metadata": {},
     "output_type": "execute_result"
    }
   ],
   "source": [
    "df.head()"
   ]
  },
  {
   "cell_type": "markdown",
   "metadata": {},
   "source": [
    "Виды ссылок"
   ]
  },
  {
   "cell_type": "code",
   "execution_count": 12,
   "metadata": {},
   "outputs": [
    {
     "data": {
      "text/plain": [
       "http://www.w3.org/2000/01/rdf-schema#label             16139\n",
       "http://www.w3.org/1999/02/22-rdf-syntax-ns#type         8171\n",
       "http://www.w3.org/ns/prov#wasDerivedFrom                4529\n",
       "http://www.w3.org/2000/01/rdf-schema#range              2927\n",
       "http://www.w3.org/2000/01/rdf-schema#domain             2683\n",
       "http://www.w3.org/2000/01/rdf-schema#comment            2413\n",
       "http://www.w3.org/2000/01/rdf-schema#subClassOf         1611\n",
       "http://www.w3.org/2000/01/rdf-schema#subPropertyOf      1027\n",
       "http://www.w3.org/2002/07/owl#equivalentClass            788\n",
       "http://www.w3.org/2002/07/owl#equivalentProperty         366\n",
       "http://www.w3.org/2002/07/owl#disjointWith                55\n",
       "http://purl.org/vocab/vann/preferredNamespaceUri           1\n",
       "http://purl.org/dc/terms/title                             1\n",
       "http://purl.org/dc/terms/description                       1\n",
       "http://purl.org/dc/terms/source                            1\n",
       "http://purl.org/dc/terms/publisher                         1\n",
       "http://purl.org/dc/terms/license                           1\n",
       "http://creativecommons.org/ns#license                      1\n",
       "http://purl.org/vocab/vann/preferredNamespacePrefix        1\n",
       "http://www.w3.org/2002/07/owl#versionInfo                  1\n",
       "http://purl.org/dc/terms/issued                            1\n",
       "http://purl.org/dc/terms/creator                           1\n",
       "http://xmlns.com/foaf/0.1/homepage                         1\n",
       "Name: 1, dtype: int64"
      ]
     },
     "execution_count": 12,
     "metadata": {},
     "output_type": "execute_result"
    }
   ],
   "source": [
    "df[1].value_counts()"
   ]
  },
  {
   "cell_type": "markdown",
   "metadata": {},
   "source": [
    "Представление датасета в виде графа"
   ]
  },
  {
   "cell_type": "code",
   "execution_count": 13,
   "metadata": {},
   "outputs": [
    {
     "data": {
      "text/plain": [
       "<Graph identifier=Ncd921d0eea4e4b0e90b1f08254879b06 (<class 'rdflib.graph.Graph'>)>"
      ]
     },
     "execution_count": 13,
     "metadata": {},
     "output_type": "execute_result"
    }
   ],
   "source": [
    "g = rdflib.Graph()\n",
    "# g.parse('dbpedia_2016-10.nt', format='nt')\n",
    "g.parse('ontology--DEV_type=parsed.nt', format='nt')"
   ]
  },
  {
   "cell_type": "code",
   "execution_count": 14,
   "metadata": {},
   "outputs": [
    {
     "name": "stdout",
     "output_type": "stream",
     "text": [
      "Количество троек: 40715\n",
      "Количество ссылок: 23\n",
      "Количество сущностей: 5170\n"
     ]
    }
   ],
   "source": [
    "print('Количество троек:', len(list(g.triples((None, None, None)))))\n",
    "\n",
    "print('Количество ссылок:', len(set(g.predicates())))\n",
    "\n",
    "print('Количество сущностей:', len(set(g.subjects())))"
   ]
  },
  {
   "cell_type": "code",
   "execution_count": 15,
   "metadata": {},
   "outputs": [
    {
     "name": "stdout",
     "output_type": "stream",
     "text": [
      "http://dbpedia.org/ontology/Dog http://www.w3.org/1999/02/22-rdf-syntax-ns#type http://www.w3.org/2002/07/owl#Class\n",
      "http://dbpedia.org/ontology/Dog http://www.w3.org/2000/01/rdf-schema#label hund\n",
      "http://dbpedia.org/ontology/Dog http://www.w3.org/2000/01/rdf-schema#label イヌ\n",
      "http://dbpedia.org/ontology/Dog http://www.w3.org/2000/01/rdf-schema#label Hund\n",
      "http://dbpedia.org/ontology/Dog http://www.w3.org/2000/01/rdf-schema#label chien\n",
      "http://dbpedia.org/ontology/Dog http://www.w3.org/2000/01/rdf-schema#label کتا\n",
      "http://dbpedia.org/ontology/Dog http://www.w3.org/2000/01/rdf-schema#label 개\n",
      "http://dbpedia.org/ontology/Dog http://www.w3.org/2000/01/rdf-schema#label madra\n",
      "http://dbpedia.org/ontology/Dog http://www.w3.org/2000/01/rdf-schema#label hond\n",
      "http://dbpedia.org/ontology/Dog http://www.w3.org/2000/01/rdf-schema#label dog\n",
      "http://dbpedia.org/ontology/Dog http://www.w3.org/2000/01/rdf-schema#label σκύλος\n",
      "http://dbpedia.org/ontology/Dog http://www.w3.org/2000/01/rdf-schema#subClassOf http://dbpedia.org/ontology/Mammal\n",
      "http://dbpedia.org/ontology/Dog http://www.w3.org/2002/07/owl#equivalentClass http://www.wikidata.org/entity/Q25324\n",
      "http://dbpedia.org/ontology/Dog http://www.w3.org/2002/07/owl#disjointWith http://dbpedia.org/ontology/Cat\n",
      "http://dbpedia.org/ontology/Dog http://www.w3.org/ns/prov#wasDerivedFrom http://mappings.dbpedia.org/index.php/OntologyClass:Dog\n"
     ]
    }
   ],
   "source": [
    "example = rdflib.URIRef('http://dbpedia.org/ontology/Dog')\n",
    "for i, (s, p, o) in enumerate(g.triples((example, None, None))):\n",
    "    print(s, p, o)"
   ]
  },
  {
   "cell_type": "code",
   "execution_count": 16,
   "metadata": {},
   "outputs": [
    {
     "data": {
      "image/png": "[encoded data removed]",
      "text/plain": [
       "<Figure size 1440x1440 with 1 Axes>"
      ]
     },
     "metadata": {},
     "output_type": "display_data"
    }
   ],
   "source": [
    "nx_graph, rdf_subgraph = create_sub_graph(example, 3)\n",
    "        \n",
    "plt.figure(figsize=(20, 20))\n",
    "_pos = nx.kamada_kawai_layout(nx_graph)\n",
    "_ = nx.draw_networkx_nodes(nx_graph, pos=_pos)\n",
    "_ = nx.draw_networkx_edges(nx_graph, pos=_pos)\n",
    "_ = nx.draw_networkx_labels(nx_graph, pos=_pos, fontsize=8)\n",
    "names = nx.get_edge_attributes(nx_graph, 'name')\n",
    "_ = nx.draw_networkx_edge_labels(nx_graph, pos=_pos, edge_labels=names, fontsize=8)\n",
    "\n",
    "# rdf_subgraph.serialize(destination='sub.ttl', format='turtle')"
   ]
  },
  {
   "cell_type": "markdown",
   "metadata": {},
   "source": [
    "## Пример кластеризации"
   ]
  },
  {
   "cell_type": "markdown",
   "metadata": {},
   "source": [
    "Построим навигационный граф и матрицу совместных вероятностей"
   ]
  },
  {
   "cell_type": "code",
   "execution_count": 17,
   "metadata": {},
   "outputs": [],
   "source": [
    "links, linked_entities, classes, navigation_graph = build_navigation_graph('http://dbpedia.org/ontology/Dog')"
   ]
  },
  {
   "cell_type": "code",
   "execution_count": 18,
   "metadata": {},
   "outputs": [
    {
     "data": {
      "text/html": [
       "<div>\n",
       "<style scoped>\n",
       "    .dataframe tbody tr th:only-of-type {\n",
       "        vertical-align: middle;\n",
       "    }\n",
       "\n",
       "    .dataframe tbody tr th {\n",
       "        vertical-align: top;\n",
       "    }\n",
       "\n",
       "    .dataframe thead th {\n",
       "        text-align: right;\n",
       "    }\n",
       "</style>\n",
       "<table border=\"1\" class=\"dataframe\">\n",
       "  <thead>\n",
       "    <tr style=\"text-align: right;\">\n",
       "      <th></th>\n",
       "      <th>links</th>\n",
       "      <th>linked_entities</th>\n",
       "      <th>classes</th>\n",
       "    </tr>\n",
       "  </thead>\n",
       "  <tbody>\n",
       "    <tr>\n",
       "      <th>0</th>\n",
       "      <td>http://www.w3.org/2000/01/rdf-schema#subClassOf</td>\n",
       "      <td>http://dbpedia.org/ontology/Mammal</td>\n",
       "      <td>http://www.w3.org/2002/07/owl#Class</td>\n",
       "    </tr>\n",
       "    <tr>\n",
       "      <th>1</th>\n",
       "      <td>http://www.w3.org/2000/01/rdf-schema#subClassOf</td>\n",
       "      <td>http://dbpedia.org/ontology/Mammal</td>\n",
       "      <td>http://dbpedia.org/ontology/Animal</td>\n",
       "    </tr>\n",
       "    <tr>\n",
       "      <th>2</th>\n",
       "      <td>http://www.w3.org/2000/01/rdf-schema#subClassOf</td>\n",
       "      <td>http://dbpedia.org/ontology/Mammal</td>\n",
       "      <td>http://www.wikidata.org/entity/Q7377</td>\n",
       "    </tr>\n",
       "    <tr>\n",
       "      <th>3</th>\n",
       "      <td>http://www.w3.org/2000/01/rdf-schema#subClassOf</td>\n",
       "      <td>http://dbpedia.org/ontology/Mammal</td>\n",
       "      <td>http://dbpedia.org/ontology/Fish</td>\n",
       "    </tr>\n",
       "    <tr>\n",
       "      <th>4</th>\n",
       "      <td>http://www.w3.org/2000/01/rdf-schema#subClassOf</td>\n",
       "      <td>http://dbpedia.org/ontology/Mammal</td>\n",
       "      <td>http://mappings.dbpedia.org/index.php/Ontology...</td>\n",
       "    </tr>\n",
       "    <tr>\n",
       "      <th>5</th>\n",
       "      <td>http://www.w3.org/2002/07/owl#disjointWith</td>\n",
       "      <td>http://dbpedia.org/ontology/Cat</td>\n",
       "      <td>http://www.w3.org/2002/07/owl#Class</td>\n",
       "    </tr>\n",
       "    <tr>\n",
       "      <th>6</th>\n",
       "      <td>http://www.w3.org/2002/07/owl#disjointWith</td>\n",
       "      <td>http://dbpedia.org/ontology/Cat</td>\n",
       "      <td>http://dbpedia.org/ontology/Mammal</td>\n",
       "    </tr>\n",
       "    <tr>\n",
       "      <th>7</th>\n",
       "      <td>http://www.w3.org/2002/07/owl#disjointWith</td>\n",
       "      <td>http://dbpedia.org/ontology/Cat</td>\n",
       "      <td>http://www.wikidata.org/entity/Q146</td>\n",
       "    </tr>\n",
       "    <tr>\n",
       "      <th>8</th>\n",
       "      <td>http://www.w3.org/2002/07/owl#disjointWith</td>\n",
       "      <td>http://dbpedia.org/ontology/Cat</td>\n",
       "      <td>http://mappings.dbpedia.org/index.php/Ontology...</td>\n",
       "    </tr>\n",
       "  </tbody>\n",
       "</table>\n",
       "</div>"
      ],
      "text/plain": [
       "                                             links  \\\n",
       "0  http://www.w3.org/2000/01/rdf-schema#subClassOf   \n",
       "1  http://www.w3.org/2000/01/rdf-schema#subClassOf   \n",
       "2  http://www.w3.org/2000/01/rdf-schema#subClassOf   \n",
       "3  http://www.w3.org/2000/01/rdf-schema#subClassOf   \n",
       "4  http://www.w3.org/2000/01/rdf-schema#subClassOf   \n",
       "5       http://www.w3.org/2002/07/owl#disjointWith   \n",
       "6       http://www.w3.org/2002/07/owl#disjointWith   \n",
       "7       http://www.w3.org/2002/07/owl#disjointWith   \n",
       "8       http://www.w3.org/2002/07/owl#disjointWith   \n",
       "\n",
       "                      linked_entities  \\\n",
       "0  http://dbpedia.org/ontology/Mammal   \n",
       "1  http://dbpedia.org/ontology/Mammal   \n",
       "2  http://dbpedia.org/ontology/Mammal   \n",
       "3  http://dbpedia.org/ontology/Mammal   \n",
       "4  http://dbpedia.org/ontology/Mammal   \n",
       "5     http://dbpedia.org/ontology/Cat   \n",
       "6     http://dbpedia.org/ontology/Cat   \n",
       "7     http://dbpedia.org/ontology/Cat   \n",
       "8     http://dbpedia.org/ontology/Cat   \n",
       "\n",
       "                                             classes  \n",
       "0                http://www.w3.org/2002/07/owl#Class  \n",
       "1                 http://dbpedia.org/ontology/Animal  \n",
       "2               http://www.wikidata.org/entity/Q7377  \n",
       "3                   http://dbpedia.org/ontology/Fish  \n",
       "4  http://mappings.dbpedia.org/index.php/Ontology...  \n",
       "5                http://www.w3.org/2002/07/owl#Class  \n",
       "6                 http://dbpedia.org/ontology/Mammal  \n",
       "7                http://www.wikidata.org/entity/Q146  \n",
       "8  http://mappings.dbpedia.org/index.php/Ontology...  "
      ]
     },
     "execution_count": 18,
     "metadata": {},
     "output_type": "execute_result"
    }
   ],
   "source": [
    "navigation_graph"
   ]
  },
  {
   "cell_type": "code",
   "execution_count": 19,
   "metadata": {},
   "outputs": [],
   "source": [
    "p = joint_probability(navigation_graph)"
   ]
  },
  {
   "cell_type": "code",
   "execution_count": 20,
   "metadata": {},
   "outputs": [
    {
     "data": {
      "text/html": [
       "<div>\n",
       "<style scoped>\n",
       "    .dataframe tbody tr th:only-of-type {\n",
       "        vertical-align: middle;\n",
       "    }\n",
       "\n",
       "    .dataframe tbody tr th {\n",
       "        vertical-align: top;\n",
       "    }\n",
       "\n",
       "    .dataframe thead th {\n",
       "        text-align: right;\n",
       "    }\n",
       "</style>\n",
       "<table border=\"1\" class=\"dataframe\">\n",
       "  <thead>\n",
       "    <tr style=\"text-align: right;\">\n",
       "      <th>classes</th>\n",
       "      <th>http://dbpedia.org/ontology/Animal</th>\n",
       "      <th>http://dbpedia.org/ontology/Fish</th>\n",
       "      <th>http://dbpedia.org/ontology/Mammal</th>\n",
       "      <th>http://mappings.dbpedia.org/index.php/OntologyClass:Cat</th>\n",
       "      <th>http://mappings.dbpedia.org/index.php/OntologyClass:Mammal</th>\n",
       "      <th>http://www.w3.org/2002/07/owl#Class</th>\n",
       "      <th>http://www.wikidata.org/entity/Q146</th>\n",
       "      <th>http://www.wikidata.org/entity/Q7377</th>\n",
       "    </tr>\n",
       "    <tr>\n",
       "      <th>links</th>\n",
       "      <th></th>\n",
       "      <th></th>\n",
       "      <th></th>\n",
       "      <th></th>\n",
       "      <th></th>\n",
       "      <th></th>\n",
       "      <th></th>\n",
       "      <th></th>\n",
       "    </tr>\n",
       "  </thead>\n",
       "  <tbody>\n",
       "    <tr>\n",
       "      <th>http://www.w3.org/2000/01/rdf-schema#subClassOf</th>\n",
       "      <td>0.5</td>\n",
       "      <td>0.5</td>\n",
       "      <td>0.0</td>\n",
       "      <td>0.0</td>\n",
       "      <td>0.5</td>\n",
       "      <td>0.5</td>\n",
       "      <td>0.0</td>\n",
       "      <td>0.5</td>\n",
       "    </tr>\n",
       "    <tr>\n",
       "      <th>http://www.w3.org/2002/07/owl#disjointWith</th>\n",
       "      <td>0.0</td>\n",
       "      <td>0.0</td>\n",
       "      <td>0.5</td>\n",
       "      <td>0.5</td>\n",
       "      <td>0.0</td>\n",
       "      <td>0.5</td>\n",
       "      <td>0.5</td>\n",
       "      <td>0.0</td>\n",
       "    </tr>\n",
       "  </tbody>\n",
       "</table>\n",
       "</div>"
      ],
      "text/plain": [
       "classes                                          http://dbpedia.org/ontology/Animal  \\\n",
       "links                                                                                 \n",
       "http://www.w3.org/2000/01/rdf-schema#subClassOf                                 0.5   \n",
       "http://www.w3.org/2002/07/owl#disjointWith                                      0.0   \n",
       "\n",
       "classes                                          http://dbpedia.org/ontology/Fish  \\\n",
       "links                                                                               \n",
       "http://www.w3.org/2000/01/rdf-schema#subClassOf                               0.5   \n",
       "http://www.w3.org/2002/07/owl#disjointWith                                    0.0   \n",
       "\n",
       "classes                                          http://dbpedia.org/ontology/Mammal  \\\n",
       "links                                                                                 \n",
       "http://www.w3.org/2000/01/rdf-schema#subClassOf                                 0.0   \n",
       "http://www.w3.org/2002/07/owl#disjointWith                                      0.5   \n",
       "\n",
       "classes                                          http://mappings.dbpedia.org/index.php/OntologyClass:Cat  \\\n",
       "links                                                                                                      \n",
       "http://www.w3.org/2000/01/rdf-schema#subClassOf                                                0.0         \n",
       "http://www.w3.org/2002/07/owl#disjointWith                                                     0.5         \n",
       "\n",
       "classes                                          http://mappings.dbpedia.org/index.php/OntologyClass:Mammal  \\\n",
       "links                                                                                                         \n",
       "http://www.w3.org/2000/01/rdf-schema#subClassOf                                                0.5            \n",
       "http://www.w3.org/2002/07/owl#disjointWith                                                     0.0            \n",
       "\n",
       "classes                                          http://www.w3.org/2002/07/owl#Class  \\\n",
       "links                                                                                  \n",
       "http://www.w3.org/2000/01/rdf-schema#subClassOf                                  0.5   \n",
       "http://www.w3.org/2002/07/owl#disjointWith                                       0.5   \n",
       "\n",
       "classes                                          http://www.wikidata.org/entity/Q146  \\\n",
       "links                                                                                  \n",
       "http://www.w3.org/2000/01/rdf-schema#subClassOf                                  0.0   \n",
       "http://www.w3.org/2002/07/owl#disjointWith                                       0.5   \n",
       "\n",
       "classes                                          http://www.wikidata.org/entity/Q7377  \n",
       "links                                                                                  \n",
       "http://www.w3.org/2000/01/rdf-schema#subClassOf                                   0.5  \n",
       "http://www.w3.org/2002/07/owl#disjointWith                                        0.0  "
      ]
     },
     "execution_count": 20,
     "metadata": {},
     "output_type": "execute_result"
    }
   ],
   "source": [
    "p"
   ]
  },
  {
   "cell_type": "markdown",
   "metadata": {},
   "source": [
    "Пример без иерархии"
   ]
  },
  {
   "cell_type": "code",
   "execution_count": 44,
   "metadata": {},
   "outputs": [
    {
     "name": "stdout",
     "output_type": "stream",
     "text": [
      "iteration:\t 0 \t KL Divergence:\t  3.4273764861365716\n",
      "iteration:\t 1 \t KL Divergence:\t  0.8048202372183788\n"
     ]
    }
   ],
   "source": [
    "k = 2\n",
    "l = 2\n",
    "n_iters = 10\n",
    "convergeThresh = 0.001\n",
    "\n",
    "\n",
    "cX = np.matrix(np.random.randint(3, size=p.shape[0]))\n",
    "cY = np.matrix(np.random.randint(2, size=p.shape[1]))\n",
    "\n",
    "M1,q,cX,cY,clustered,Error = ITCC(p.values, k, l, n_iters, convergeThresh, cX, cY,  p.index, p.columns) "
   ]
  },
  {
   "cell_type": "code",
   "execution_count": 46,
   "metadata": {},
   "outputs": [
    {
     "name": "stdout",
     "output_type": "stream",
     "text": [
      "Совместное распределение кластеров\n",
      "[[1.5 1. ]\n",
      " [1.  1. ]]\n",
      "Ссылки\n",
      "Index(['http://www.w3.org/2000/01/rdf-schema#subClassOf', 'http://www.w3.org/2002/07/owl#disjointWith'], dtype='object', name='links')\n",
      "Номера кластеров для ссылок\n",
      "[[1. 0.]]\n",
      "Классы\n",
      "Index(['http://dbpedia.org/ontology/Animal',\n",
      "       'http://dbpedia.org/ontology/Fish',\n",
      "       'http://dbpedia.org/ontology/Mammal',\n",
      "       'http://mappings.dbpedia.org/index.php/OntologyClass:Cat',\n",
      "       'http://mappings.dbpedia.org/index.php/OntologyClass:Mammal',\n",
      "       'http://www.w3.org/2002/07/owl#Class',\n",
      "       'http://www.wikidata.org/entity/Q146',\n",
      "       'http://www.wikidata.org/entity/Q7377'],\n",
      "      dtype='object', name='classes')\n",
      "Номера кластеров для классов\n",
      "[[1. 1. 0. 0. 1. 0. 0. 1.]]\n"
     ]
    }
   ],
   "source": [
    "print('Совместное распределение кластеров')\n",
    "print(clustered)\n",
    "\n",
    "print('Ссылки')\n",
    "print(p.index)\n",
    "\n",
    "print('Номера кластеров для ссылок')\n",
    "print(cX)\n",
    "\n",
    "print('Классы')\n",
    "print(p.columns)\n",
    "\n",
    "print('Номера кластеров для классов')\n",
    "print(cY)\n"
   ]
  },
  {
   "cell_type": "code",
   "execution_count": 47,
   "metadata": {},
   "outputs": [
    {
     "name": "stdout",
     "output_type": "stream",
     "text": [
      "Cluster Index (CI) для ссылок 0.0\n",
      "Cluster Index (CI) для классов 0.011260868941795264\n"
     ]
    }
   ],
   "source": [
    "print('Cluster Index (CI) для ссылок', cluster_index(np.array(cX.ravel())[0], np.array(p.index)))\n",
    "print('Cluster Index (CI) для классов', cluster_index(np.array(cY.ravel())[0], np.array(p.columns)))"
   ]
  },
  {
   "cell_type": "markdown",
   "metadata": {},
   "source": [
    "Запустим иерархическую кластеризацию"
   ]
  },
  {
   "cell_type": "code",
   "execution_count": 50,
   "metadata": {},
   "outputs": [
    {
     "name": "stdout",
     "output_type": "stream",
     "text": [
      "iteration:\t 0 \t KL Divergence:\t  3.427376486136572\n",
      "iteration:\t 1 \t KL Divergence:\t  0.8048202372183788\n",
      "iteration:\t 0 \t KL Divergence:\t  0.0\n",
      "iteration:\t 0 \t KL Divergence:\t  0.0\n"
     ]
    }
   ],
   "source": [
    "CH, cnt = hierarchy(navigation_graph, 0, {}, p.index, p.columns)"
   ]
  },
  {
   "cell_type": "code",
   "execution_count": 51,
   "metadata": {},
   "outputs": [
    {
     "data": {
      "text/plain": [
       "{0: [matrix([[1., 0.]]),\n",
       "  matrix([[1., 1., 0., 0., 1., 0., 0., 1.]]),\n",
       "  Index(['http://www.w3.org/2000/01/rdf-schema#subClassOf', 'http://www.w3.org/2002/07/owl#disjointWith'], dtype='object', name='links'),\n",
       "  Index(['http://dbpedia.org/ontology/Animal',\n",
       "         'http://dbpedia.org/ontology/Fish',\n",
       "         'http://dbpedia.org/ontology/Mammal',\n",
       "         'http://mappings.dbpedia.org/index.php/OntologyClass:Cat',\n",
       "         'http://mappings.dbpedia.org/index.php/OntologyClass:Mammal',\n",
       "         'http://www.w3.org/2002/07/owl#Class',\n",
       "         'http://www.wikidata.org/entity/Q146',\n",
       "         'http://www.wikidata.org/entity/Q7377'],\n",
       "        dtype='object', name='classes')],\n",
       " 1: [matrix([[1.]]),\n",
       "  matrix([[0., 0., 0., 0.]]),\n",
       "  Index(['http://www.w3.org/2002/07/owl#disjointWith'], dtype='object', name='links'),\n",
       "  Index(['http://dbpedia.org/ontology/Mammal',\n",
       "         'http://mappings.dbpedia.org/index.php/OntologyClass:Cat',\n",
       "         'http://www.w3.org/2002/07/owl#Class',\n",
       "         'http://www.wikidata.org/entity/Q146'],\n",
       "        dtype='object', name='classes'),\n",
       "  'LEAF'],\n",
       " 2: [matrix([[0.]]),\n",
       "  matrix([[0., 0., 0., 0.]]),\n",
       "  Index(['http://www.w3.org/2000/01/rdf-schema#subClassOf'], dtype='object', name='links'),\n",
       "  Index(['http://dbpedia.org/ontology/Animal',\n",
       "         'http://dbpedia.org/ontology/Fish',\n",
       "         'http://mappings.dbpedia.org/index.php/OntologyClass:Mammal',\n",
       "         'http://www.wikidata.org/entity/Q7377'],\n",
       "        dtype='object', name='classes'),\n",
       "  'LEAF']}"
      ]
     },
     "execution_count": 51,
     "metadata": {},
     "output_type": "execute_result"
    }
   ],
   "source": [
    "CH"
   ]
  },
  {
   "cell_type": "markdown",
   "metadata": {},
   "source": [
    "Пример из статьи"
   ]
  },
  {
   "cell_type": "code",
   "execution_count": 52,
   "metadata": {},
   "outputs": [],
   "source": [
    "navigation_graph = pd.DataFrame()\n",
    "\n",
    "navigation_graph.loc[:, 'links'] = ['executive producer', 'producer', 'producer', 'writer', 'writer', 'birth place', 'resident']\n",
    "navigation_graph.loc[:, 'linked_entities'] = ['FS', 'MB', 'AI', 'AI', 'MH', 'C', 'LA']\n",
    "navigation_graph.loc[:, 'classes'] = ['Television Show', 'Film', 'Film', 'Film', 'Video Game', 'City', 'City']\n",
    "\n",
    "\n",
    "p = joint_probability(navigation_graph)"
   ]
  },
  {
   "cell_type": "code",
   "execution_count": 53,
   "metadata": {},
   "outputs": [
    {
     "data": {
      "text/html": [
       "<div>\n",
       "<style scoped>\n",
       "    .dataframe tbody tr th:only-of-type {\n",
       "        vertical-align: middle;\n",
       "    }\n",
       "\n",
       "    .dataframe tbody tr th {\n",
       "        vertical-align: top;\n",
       "    }\n",
       "\n",
       "    .dataframe thead th {\n",
       "        text-align: right;\n",
       "    }\n",
       "</style>\n",
       "<table border=\"1\" class=\"dataframe\">\n",
       "  <thead>\n",
       "    <tr style=\"text-align: right;\">\n",
       "      <th>classes</th>\n",
       "      <th>City</th>\n",
       "      <th>Film</th>\n",
       "      <th>Television Show</th>\n",
       "      <th>Video Game</th>\n",
       "    </tr>\n",
       "    <tr>\n",
       "      <th>links</th>\n",
       "      <th></th>\n",
       "      <th></th>\n",
       "      <th></th>\n",
       "      <th></th>\n",
       "    </tr>\n",
       "  </thead>\n",
       "  <tbody>\n",
       "    <tr>\n",
       "      <th>birth place</th>\n",
       "      <td>0.166667</td>\n",
       "      <td>0.000000</td>\n",
       "      <td>0.000000</td>\n",
       "      <td>0.000000</td>\n",
       "    </tr>\n",
       "    <tr>\n",
       "      <th>executive producer</th>\n",
       "      <td>0.000000</td>\n",
       "      <td>0.000000</td>\n",
       "      <td>0.166667</td>\n",
       "      <td>0.000000</td>\n",
       "    </tr>\n",
       "    <tr>\n",
       "      <th>producer</th>\n",
       "      <td>0.000000</td>\n",
       "      <td>0.333333</td>\n",
       "      <td>0.000000</td>\n",
       "      <td>0.000000</td>\n",
       "    </tr>\n",
       "    <tr>\n",
       "      <th>resident</th>\n",
       "      <td>0.166667</td>\n",
       "      <td>0.000000</td>\n",
       "      <td>0.000000</td>\n",
       "      <td>0.000000</td>\n",
       "    </tr>\n",
       "    <tr>\n",
       "      <th>writer</th>\n",
       "      <td>0.000000</td>\n",
       "      <td>0.166667</td>\n",
       "      <td>0.000000</td>\n",
       "      <td>0.166667</td>\n",
       "    </tr>\n",
       "  </tbody>\n",
       "</table>\n",
       "</div>"
      ],
      "text/plain": [
       "classes                 City      Film  Television Show  Video Game\n",
       "links                                                              \n",
       "birth place         0.166667  0.000000         0.000000    0.000000\n",
       "executive producer  0.000000  0.000000         0.166667    0.000000\n",
       "producer            0.000000  0.333333         0.000000    0.000000\n",
       "resident            0.166667  0.000000         0.000000    0.000000\n",
       "writer              0.000000  0.166667         0.000000    0.166667"
      ]
     },
     "execution_count": 53,
     "metadata": {},
     "output_type": "execute_result"
    }
   ],
   "source": [
    "p"
   ]
  },
  {
   "cell_type": "code",
   "execution_count": 63,
   "metadata": {},
   "outputs": [
    {
     "name": "stdout",
     "output_type": "stream",
     "text": [
      "iteration:\t 0 \t KL Divergence:\t  1.1258145836938007\n",
      "iteration:\t 1 \t KL Divergence:\t  0.6666666666666088\n"
     ]
    }
   ],
   "source": [
    "k = 2\n",
    "l = 2\n",
    "n_iters = 10\n",
    "convergeThresh = 0.001\n",
    "\n",
    "\n",
    "cX = np.matrix(np.random.randint(3, size=p.shape[0]))\n",
    "cY = np.matrix(np.random.randint(2, size=p.shape[1]))\n",
    "\n",
    "M1,q,cX,cY,clustered,Error = ITCC(p.values, k, l, n_iters, convergeThresh, cX, cY,  p.index, p.columns)"
   ]
  },
  {
   "cell_type": "code",
   "execution_count": 64,
   "metadata": {},
   "outputs": [
    {
     "name": "stdout",
     "output_type": "stream",
     "text": [
      "Совместное распределение кластеров\n",
      "[[0.5        0.16666667]\n",
      " [0.33333333 0.16666667]]\n",
      "Ссылки\n",
      "Index(['birth place', 'executive producer', 'producer', 'resident', 'writer'], dtype='object', name='links')\n",
      "Номера кластеров для ссылок\n",
      "[[0. 0. 1. 0. 1.]]\n",
      "Классы\n",
      "Index(['City', 'Film', 'Television Show', 'Video Game'], dtype='object', name='classes')\n",
      "Номера кластеров для классов\n",
      "[[0. 1. 0. 1.]]\n"
     ]
    }
   ],
   "source": [
    "print('Совместное распределение кластеров')\n",
    "print(clustered)\n",
    "\n",
    "print('Ссылки')\n",
    "print(p.index)\n",
    "\n",
    "print('Номера кластеров для ссылок')\n",
    "print(cX)\n",
    "\n",
    "print('Классы')\n",
    "print(p.columns)\n",
    "\n",
    "print('Номера кластеров для классов')\n",
    "print(cY)\n"
   ]
  },
  {
   "cell_type": "code",
   "execution_count": 65,
   "metadata": {},
   "outputs": [
    {
     "name": "stdout",
     "output_type": "stream",
     "text": [
      "Cluster Index (CI) для ссылок 0.044923786510383194\n",
      "Cluster Index (CI) для классов 0.023537725070282966\n"
     ]
    }
   ],
   "source": [
    "print('Cluster Index (CI) для ссылок', cluster_index(np.array(cX.ravel())[0], np.array(p.index)))\n",
    "print('Cluster Index (CI) для классов', cluster_index(np.array(cY.ravel())[0], np.array(p.columns)))"
   ]
  },
  {
   "cell_type": "markdown",
   "metadata": {},
   "source": [
    "Запустим алгоритм иерархической совместной кластеризации"
   ]
  },
  {
   "cell_type": "code",
   "execution_count": 86,
   "metadata": {},
   "outputs": [
    {
     "name": "stdout",
     "output_type": "stream",
     "text": [
      "iteration:\t 0 \t KL Divergence:\t  1.8091254953786753\n",
      "iteration:\t 1 \t KL Divergence:\t  0.8091254953788038\n",
      "iteration:\t 0 \t KL Divergence:\t  0.0\n",
      "iteration:\t 0 \t KL Divergence:\t  0.999999999999947\n",
      "iteration:\t 1 \t KL Divergence:\t  0.3112781244591184\n",
      "iteration:\t 0 \t KL Divergence:\t  0.41503749927882927\n",
      "iteration:\t 0 \t KL Divergence:\t  0.0\n"
     ]
    }
   ],
   "source": [
    "CH, cnt = hierarchy(navigation_graph, 0, {}, p.index, p.columns)"
   ]
  },
  {
   "cell_type": "code",
   "execution_count": 87,
   "metadata": {},
   "outputs": [
    {
     "data": {
      "text/plain": [
       "{0: [matrix([[0., 1., 1., 0., 1.]]),\n",
       "  matrix([[0., 1., 1., 1.]]),\n",
       "  Index(['birth place', 'executive producer', 'producer', 'resident', 'writer'], dtype='object', name='links'),\n",
       "  Index(['City', 'Film', 'Television Show', 'Video Game'], dtype='object', name='classes')],\n",
       " 1: [matrix([[0., 0.]]),\n",
       "  matrix([[0.]]),\n",
       "  Index(['birth place', 'resident'], dtype='object', name='links'),\n",
       "  Index(['City'], dtype='object', name='classes'),\n",
       "  'LEAF'],\n",
       " 2: [matrix([[1., 0., 0.]]),\n",
       "  matrix([[0., 1., 0.]]),\n",
       "  Index(['executive producer', 'producer', 'writer'], dtype='object', name='links'),\n",
       "  Index(['Film', 'Television Show', 'Video Game'], dtype='object', name='classes')],\n",
       " 3: [matrix([[0., 0.]]),\n",
       "  matrix([[1., 1.]]),\n",
       "  Index(['producer', 'writer'], dtype='object', name='links'),\n",
       "  Index(['Film', 'Video Game'], dtype='object', name='classes'),\n",
       "  'LEAF'],\n",
       " 4: [matrix([[1.]]),\n",
       "  matrix([[1.]]),\n",
       "  Index(['executive producer'], dtype='object', name='links'),\n",
       "  Index(['Television Show'], dtype='object', name='classes'),\n",
       "  'LEAF']}"
      ]
     },
     "execution_count": 87,
     "metadata": {},
     "output_type": "execute_result"
    }
   ],
   "source": [
    "CH"
   ]
  }
 ],
 "metadata": {
  "kernelspec": {
   "display_name": "Python 3",
   "language": "python",
   "name": "python3"
  },
  "language_info": {
   "codemirror_mode": {
    "name": "ipython",
    "version": 3
   },
   "file_extension": ".py",
   "mimetype": "text/x-python",
   "name": "python",
   "nbconvert_exporter": "python",
   "pygments_lexer": "ipython3",
   "version": "3.7.4"
  }
 },
 "nbformat": 4,
 "nbformat_minor": 4
}
